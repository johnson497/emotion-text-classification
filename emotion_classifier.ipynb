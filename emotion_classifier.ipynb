{
 "cells": [
  {
   "cell_type": "markdown",
   "id": "110b62dd",
   "metadata": {},
   "source": [
    "# Emotion Classification from Poetry Text\n",
    "This project uses deep learning to classify poetry into emotional states."
   ]
  },
  {
   "cell_type": "code",
   "execution_count": null,
   "id": "bcb57fd6",
   "metadata": {},
   "outputs": [],
   "source": [
    "# 1. Import Libraries\n",
    "import pandas as pd\n",
    "import numpy as np\n",
    "import matplotlib.pyplot as plt\n",
    "import seaborn as sns\n",
    "from sklearn.model_selection import train_test_split\n",
    "from sklearn.feature_extraction.text import TfidfVectorizer\n",
    "from sklearn.linear_model import LogisticRegression\n",
    "from sklearn.metrics import classification_report, confusion_matrix\n"
   ]
  },
  {
   "cell_type": "code",
   "execution_count": null,
   "id": "912494dd",
   "metadata": {},
   "outputs": [],
   "source": [
    "# 2. Load Dataset (replace with your dataset path or URL)\n",
    "# For now, using a placeholder DataFrame\n",
    "data = {\n",
    "    'text': [\n",
    "        'My heart is broken and full of pain',\n",
    "        'Sunshine and flowers make me happy',\n",
    "        'I am scared and alone',\n",
    "        'Love is a beautiful feeling'\n",
    "    ],\n",
    "    'emotion': ['sad', 'happy', 'fear', 'love']\n",
    "}\n",
    "df = pd.DataFrame(data)\n",
    "df.head()"
   ]
  },
  {
   "cell_type": "code",
   "execution_count": null,
   "id": "42b148f4",
   "metadata": {},
   "outputs": [],
   "source": [
    "# 3. Preprocess Text\n",
    "X = df['text']\n",
    "y = df['emotion']"
   ]
  },
  {
   "cell_type": "code",
   "execution_count": null,
   "id": "4a7fd8c9",
   "metadata": {},
   "outputs": [],
   "source": [
    "# 4. Feature Extraction\n",
    "vectorizer = TfidfVectorizer()\n",
    "X_vect = vectorizer.fit_transform(X)"
   ]
  },
  {
   "cell_type": "code",
   "execution_count": null,
   "id": "dfd2b73b",
   "metadata": {},
   "outputs": [],
   "source": [
    "# 5. Train-Test Split\n",
    "X_train, X_test, y_train, y_test = train_test_split(X_vect, y, test_size=0.3, random_state=42)"
   ]
  },
  {
   "cell_type": "code",
   "execution_count": null,
   "id": "6920e1b4",
   "metadata": {},
   "outputs": [],
   "source": [
    "# 6. Model Training\n",
    "model = LogisticRegression()\n",
    "model.fit(X_train, y_train)"
   ]
  },
  {
   "cell_type": "code",
   "execution_count": null,
   "id": "0ca02ca4",
   "metadata": {},
   "outputs": [],
   "source": [
    "# 7. Evaluation\n",
    "y_pred = model.predict(X_test)\n",
    "print(\"Classification Report:\\n\", classification_report(y_test, y_pred))\n",
    "print(\"Confusion Matrix:\\n\", confusion_matrix(y_test, y_pred))"
   ]
  },
  {
   "cell_type": "code",
   "execution_count": null,
   "id": "ac6960c1",
   "metadata": {},
   "outputs": [],
   "source": [
    "# 8. Conclusion\n",
    "print(\"This is a simple baseline model for emotion classification from text. Improve it with more data and better models!\")"
   ]
  }
 ],
 "metadata": {},
 "nbformat": 4,
 "nbformat_minor": 5
}
